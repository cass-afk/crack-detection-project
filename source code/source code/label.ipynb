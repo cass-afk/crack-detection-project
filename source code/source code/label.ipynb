{
 "cells": [
  {
   "cell_type": "code",
   "execution_count": 21,
   "metadata": {},
   "outputs": [],
   "source": [
    "import os\n",
    "import cv2\n",
    "import numpy as np\n",
    "import matplotlib.pyplot as plt"
   ]
  },
  {
   "cell_type": "code",
   "execution_count": 11,
   "metadata": {},
   "outputs": [],
   "source": [
    "img_path = 'Image Dataset/Positive'  # Folder containing images\n",
    "annot_path = 'Image and Annotations/Positive'  # Folder containing annotations"
   ]
  },
  {
   "cell_type": "code",
   "execution_count": null,
   "metadata": {},
   "outputs": [],
   "source": [
    "import os\n",
    "import shutil\n",
    "import random\n",
    "import concurrent.futures\n",
    "\n",
    "# Define paths\n",
    "img_path = 'Image Dataset/Positive'\n",
    "annot_path = 'Image and Annotations/Positive'\n",
    "\n",
    "# Output folders\n",
    "output_dir = 'Dataset_Split'\n",
    "train_img_dir = os.path.join(output_dir, 'train', 'images')\n",
    "train_annot_dir = os.path.join(output_dir, 'train', 'annotations')\n",
    "val_img_dir = os.path.join(output_dir, 'validation', 'images')\n",
    "val_annot_dir = os.path.join(output_dir, 'validation', 'annotations')\n",
    "test_img_dir = os.path.join(output_dir, 'test', 'images')\n",
    "test_annot_dir = os.path.join(output_dir, 'test', 'annotations')\n",
    "\n",
    "# Create directories if not existing\n",
    "for directory in [train_img_dir, train_annot_dir, val_img_dir, val_annot_dir, test_img_dir, test_annot_dir]:\n",
    "    os.makedirs(directory, exist_ok=True)\n",
    "\n",
    "# Load all annotations into a set\n",
    "annotations = set(os.listdir(annot_path))\n",
    "\n",
    "# Only add images that have corresponding annotations\n",
    "data = [(img, img.replace('.jpg', '.txt')) for img in sorted(os.listdir(img_path)) if img.replace('.jpg', '.txt') in annotations]\n",
    "\n",
    "# Shuffle and split data\n",
    "random.shuffle(data)\n",
    "train_split = int(0.7 * len(data))\n",
    "val_split = int(0.85 * len(data))\n",
    "train_data, val_data, test_data = data[:train_split], data[train_split:val_split], data[val_split:]\n",
    "\n",
    "# Define a function to copy files\n",
    "def copy_file_pair(pair, img_dir, annot_dir):\n",
    "    img, annot = pair\n",
    "    shutil.copy(os.path.join(img_path, img), os.path.join(img_dir, img))\n",
    "    shutil.copy(os.path.join(annot_path, annot), os.path.join(annot_dir, annot))\n",
    "\n",
    "# Use concurrent copying for speedup\n",
    "with concurrent.futures.ThreadPoolExecutor() as executor:\n",
    "    # Copy each dataset split concurrently\n",
    "    executor.map(lambda pair: copy_file_pair(pair, train_img_dir, train_annot_dir), train_data)\n",
    "    executor.map(lambda pair: copy_file_pair(pair, val_img_dir, val_annot_dir), val_data)\n",
    "    executor.map(lambda pair: copy_file_pair(pair, test_img_dir, test_annot_dir), test_data)\n",
    "\n",
    "print(\"Data split completed successfully.\")\n"
   ]
  },
  {
   "cell_type": "code",
   "execution_count": null,
   "metadata": {},
   "outputs": [],
   "source": [
    "import os\n",
    "import cv2\n",
    "import numpy as np\n",
    "\n",
    "def bounding_box(canny_edge, image_name, img):\n",
    "    # Find all points where edges are detected\n",
    "    edge_points = np.where(canny_edge == 255)\n",
    "    if len(edge_points[0]) > 0:\n",
    "        y1, y2 = np.min(edge_points[0]), np.max(edge_points[0])  # Rows: min and max Y coordinates\n",
    "        x1, x2 = np.min(edge_points[1]), np.max(edge_points[1])  # Columns: min and max X coordinates\n",
    "\n",
    "        # Normalize bounding box coordinates\n",
    "        x_center = (x1 + x2) / 2 / img.shape[1]\n",
    "        y_center = (y1 + y2) / 2 / img.shape[0]\n",
    "        width = (x2 - x1) / img.shape[1]\n",
    "        height = (y2 - y1) / img.shape[0]\n",
    "\n",
    "        file_path = f\"file path\\\\{image_name}.txt\" #actual file path differes to maintain privacy\n",
    "        with open(file_path, 'w') as file:\n",
    "            file.write(f\"0 {x_center} {y_center} {width} {height}\")\n",
    "            print(f\"File '{file_path}' created successfully\")\n",
    "\n",
    "# Process images in the 'Positive' folder\n",
    "dataset_path = \"path of datset\" #actual file path differes to maintain privacy\n",
    "for im in os.listdir(dataset_path):\n",
    "    # if classes == 'Positive':\n",
    "    #     for image in os.listdir(dataset_path + '/' + classes):\n",
    "            img_path = dataset_path + '/' + im\n",
    "            img = cv2.imread(img_path)\n",
    "            # print(img)\n",
    "            gray_image_no = cv2.cvtColor(img, cv2.COLOR_BGR2GRAY)\n",
    "            canny_edge = cv2.Canny(gray_image_no, 200, 255)\n",
    "            \n",
    "            # Count non-zero edge pixels\n",
    "            non_zero_edge_points = np.count_nonzero(canny_edge)\n",
    "            if non_zero_edge_points >= 65:\n",
    "                bounding_box(canny_edge, im.replace('.jpg', ''), img)\n",
    "            # break\n"
   ]
  },
  {
   "cell_type": "code",
   "execution_count": null,
   "metadata": {},
   "outputs": [],
   "source": []
  }
 ],
 "metadata": {
  "kernelspec": {
   "display_name": "Python 3",
   "language": "python",
   "name": "python3"
  },
  "language_info": {
   "codemirror_mode": {
    "name": "ipython",
    "version": 3
   },
   "file_extension": ".py",
   "mimetype": "text/x-python",
   "name": "python",
   "nbconvert_exporter": "python",
   "pygments_lexer": "ipython3",
   "version": "3.11.3"
  }
 },
 "nbformat": 4,
 "nbformat_minor": 2
}
