{
 "cells": [
  {
   "cell_type": "code",
   "execution_count": 5,
   "metadata": {},
   "outputs": [],
   "source": [
    "import os\n",
    "import cv2\n",
    "\n",
    "def convert_annotations(image_dir, label_dir, output_label_dir):\n",
    "    if not os.path.exists(output_label_dir):\n",
    "        os.makedirs(output_label_dir)\n",
    "\n",
    "    for filename in os.listdir(label_dir):\n",
    "        if filename.endswith('.txt'):\n",
    "            label_path = os.path.join(label_dir, filename)\n",
    "            image_filename = filename.replace('.txt', '.jpg')  # Adjust if your images are in a different format\n",
    "            image_path = os.path.join(image_dir, image_filename)\n",
    "\n",
    "            # Read the image to get its dimensions\n",
    "            img = cv2.imread(image_path)\n",
    "            if img is None:\n",
    "                print(f\"Image {image_path} not found. Skipping.\")\n",
    "                continue\n",
    "\n",
    "            height, width, _ = img.shape\n",
    "\n",
    "            with open(label_path, 'r') as f:\n",
    "                lines = f.readlines()\n",
    "\n",
    "            with open(os.path.join(output_label_dir, filename), 'w') as out_file:\n",
    "                for line in lines:\n",
    "                    class_id, x1, x2, y1, y2 = map(float, line.strip().split())\n",
    "                    \n",
    "                    # Calculate center_x, center_y, width, height\n",
    "                    center_x = (x1 + x2) / 2 / width\n",
    "                    center_y = (y1 + y2) / 2 / height\n",
    "                    bbox_width = (x2 - x1) / width\n",
    "                    bbox_height = (y2 - y1) / height\n",
    "\n",
    "                    # Write to the new file in YOLO format\n",
    "                    out_file.write(f\"{int(class_id)} {center_x} {center_y} {bbox_width} {bbox_height}\\n\")\n",
    "\n",
    "# Usage\n",
    "# Specify the paths to your image and label directories\n",
    "# image_directory_train = 'Dataset_Split\\\\train\\images'\n",
    "# label_directory_train = 'Dataset_Split\\\\train\\\\annotations'\n",
    "# output_label_directory_train = 'Dataset\\\\train\\labels'\n",
    "\n",
    "# image_directory_val = 'Dataset_Split\\\\validation\\images'\n",
    "# label_directory_val = 'Dataset_Split\\\\validation\\\\annotations'\n",
    "# output_label_directory_val = 'Dataset\\\\val\\labels'\n",
    "\n",
    "image_directory_test = 'Dataset_Split\\\\test\\images'\n",
    "label_directory_test = 'Dataset_Split\\\\test\\\\annotations'\n",
    "output_label_directory_test = 'Dataset\\\\test\\labels'\n",
    "\n",
    "# Convert annotations for training and validation datasets\n",
    "# convert_annotations(image_directory_train, label_directory_train, output_label_directory_train)\n",
    "# convert_annotations(image_directory_val, label_directory_val, output_label_directory_val)\n",
    "convert_annotations(image_directory_test, label_directory_test, output_label_directory_test)"
   ]
  },
  {
   "cell_type": "code",
   "execution_count": null,
   "metadata": {},
   "outputs": [],
   "source": []
  },
  {
   "cell_type": "code",
   "execution_count": null,
   "metadata": {},
   "outputs": [],
   "source": []
  },
  {
   "cell_type": "code",
   "execution_count": null,
   "metadata": {},
   "outputs": [],
   "source": []
  }
 ],
 "metadata": {
  "kernelspec": {
   "display_name": "Python 3",
   "language": "python",
   "name": "python3"
  },
  "language_info": {
   "codemirror_mode": {
    "name": "ipython",
    "version": 3
   },
   "file_extension": ".py",
   "mimetype": "text/x-python",
   "name": "python",
   "nbconvert_exporter": "python",
   "pygments_lexer": "ipython3",
   "version": "3.11.3"
  }
 },
 "nbformat": 4,
 "nbformat_minor": 2
}
